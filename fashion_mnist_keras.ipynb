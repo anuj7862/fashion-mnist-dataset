{
  "nbformat": 4,
  "nbformat_minor": 0,
  "metadata": {
    "colab": {
      "name": "fashion_mnist_keras.ipynb",
      "provenance": [],
      "collapsed_sections": []
    },
    "kernelspec": {
      "name": "python3",
      "display_name": "Python 3"
    },
    "accelerator": "GPU"
  },
  "cells": [
    {
      "cell_type": "code",
      "metadata": {
        "id": "zdG1i_VEd-FT",
        "colab_type": "code",
        "colab": {}
      },
      "source": [
        "import tensorflow as tf \n",
        "import pandas as  pd \n",
        "import numpy as np \n",
        "#from sklearn.model_selection import train_test_split\n",
        "import matplotlib.pyplot as plt \n",
        "from tensorflow.python.framework import ops\n",
        "#from sklearn.utils import shuffle\n",
        "import math\n",
        "\n",
        "from tensorflow import keras\n",
        "\n"
      ],
      "execution_count": 0,
      "outputs": []
    },
    {
      "cell_type": "code",
      "metadata": {
        "id": "p7CT9X9JeNLC",
        "colab_type": "code",
        "outputId": "ab4966c4-9a6c-4c7f-dab5-c35d6595fd0b",
        "colab": {
          "base_uri": "https://localhost:8080/",
          "height": 170
        }
      },
      "source": [
        "fashion_mnist = keras.datasets.fashion_mnist\n",
        "(train_images,train_labels), (test_images,test_labels) = fashion_mnist.load_data()\n",
        "\n",
        "print(test_labels)"
      ],
      "execution_count": 0,
      "outputs": [
        {
          "output_type": "stream",
          "text": [
            "Downloading data from https://storage.googleapis.com/tensorflow/tf-keras-datasets/train-labels-idx1-ubyte.gz\n",
            "32768/29515 [=================================] - 0s 0us/step\n",
            "Downloading data from https://storage.googleapis.com/tensorflow/tf-keras-datasets/train-images-idx3-ubyte.gz\n",
            "26427392/26421880 [==============================] - 0s 0us/step\n",
            "Downloading data from https://storage.googleapis.com/tensorflow/tf-keras-datasets/t10k-labels-idx1-ubyte.gz\n",
            "8192/5148 [===============================================] - 0s 0us/step\n",
            "Downloading data from https://storage.googleapis.com/tensorflow/tf-keras-datasets/t10k-images-idx3-ubyte.gz\n",
            "4423680/4422102 [==============================] - 0s 0us/step\n",
            "[9 2 1 ... 8 1 5]\n"
          ],
          "name": "stdout"
        }
      ]
    },
    {
      "cell_type": "code",
      "metadata": {
        "id": "DARiL9V1eQtG",
        "colab_type": "code",
        "outputId": "a944f669-3941-4fbd-c0c2-737476e7845e",
        "colab": {
          "base_uri": "https://localhost:8080/",
          "height": 51
        }
      },
      "source": [
        "print(train_images.T.shape,test_images.shape)\n",
        "print(len(test_labels))\n"
      ],
      "execution_count": 0,
      "outputs": [
        {
          "output_type": "stream",
          "text": [
            "(28, 28, 60000) (10000, 28, 28)\n",
            "10000\n"
          ],
          "name": "stdout"
        }
      ]
    },
    {
      "cell_type": "code",
      "metadata": {
        "id": "HP_vWT1keb8-",
        "colab_type": "code",
        "colab": {}
      },
      "source": [
        "class_namaes = ['T_shirt/top', 'Trouser','Pullover','Dress','Coat','Sandal','Shirt','Sneaker','Bag','Ankie boot']"
      ],
      "execution_count": 0,
      "outputs": []
    },
    {
      "cell_type": "code",
      "metadata": {
        "id": "rICQ7ETkesjw",
        "colab_type": "code",
        "colab": {}
      },
      "source": [
        "train_labels\n",
        "\n",
        "train_images = train_images/255\n",
        "test_images = test_images/255"
      ],
      "execution_count": 0,
      "outputs": []
    },
    {
      "cell_type": "code",
      "metadata": {
        "id": "HQhUZCoNe4co",
        "colab_type": "code",
        "colab": {}
      },
      "source": [
        "model = keras.Sequential([keras.layers.Flatten(input_shape = (28,28)),\n",
        "                         keras.layers.Dense(300,activation= tf.nn.relu),\n",
        "                         keras.layers.Dense(50,activation= tf.nn.relu), \n",
        "                         keras.layers.Dense(10,activation = tf.nn.softmax)])"
      ],
      "execution_count": 0,
      "outputs": []
    },
    {
      "cell_type": "code",
      "metadata": {
        "id": "422q8WadfCOW",
        "colab_type": "code",
        "colab": {}
      },
      "source": [
        "model.compile(optimizer = tf.train.AdamOptimizer(),loss ='sparse_categorical_crossentropy',metrics = ['accuracy'])"
      ],
      "execution_count": 0,
      "outputs": []
    },
    {
      "cell_type": "code",
      "metadata": {
        "id": "omubLoSZfFo2",
        "colab_type": "code",
        "outputId": "51d24138-90b5-4e23-b5d2-281e604900c4",
        "colab": {
          "base_uri": "https://localhost:8080/",
          "height": 238
        }
      },
      "source": [
        "model.fit(train_images,train_labels,epochs =6)"
      ],
      "execution_count": 0,
      "outputs": [
        {
          "output_type": "stream",
          "text": [
            "Epoch 1/6\n",
            "60000/60000 [==============================] - 7s 111us/sample - loss: 0.4804 - acc: 0.8274\n",
            "Epoch 2/6\n",
            "60000/60000 [==============================] - 7s 110us/sample - loss: 0.3635 - acc: 0.8659\n",
            "Epoch 3/6\n",
            "60000/60000 [==============================] - 7s 111us/sample - loss: 0.3279 - acc: 0.8782\n",
            "Epoch 4/6\n",
            "60000/60000 [==============================] - 7s 110us/sample - loss: 0.3035 - acc: 0.8880\n",
            "Epoch 5/6\n",
            "60000/60000 [==============================] - 7s 111us/sample - loss: 0.2875 - acc: 0.8923\n",
            "Epoch 6/6\n",
            "60000/60000 [==============================] - 7s 111us/sample - loss: 0.2707 - acc: 0.8981\n"
          ],
          "name": "stdout"
        },
        {
          "output_type": "execute_result",
          "data": {
            "text/plain": [
              "<tensorflow.python.keras.callbacks.History at 0x7f98d5d245f8>"
            ]
          },
          "metadata": {
            "tags": []
          },
          "execution_count": 20
        }
      ]
    },
    {
      "cell_type": "code",
      "metadata": {
        "id": "ygk8zpRQfJ6j",
        "colab_type": "code",
        "outputId": "c8d9ae1a-872e-43d1-8476-c3f9df97c597",
        "colab": {
          "base_uri": "https://localhost:8080/",
          "height": 51
        }
      },
      "source": [
        "test_loss,test_acc = model.evaluate(test_images,test_labels)\n",
        "print('Test accuracy' ,test_acc)"
      ],
      "execution_count": 0,
      "outputs": [
        {
          "output_type": "stream",
          "text": [
            "10000/10000 [==============================] - 1s 77us/sample - loss: 0.3443 - acc: 0.8782\n",
            "Test accuracy 0.8782\n"
          ],
          "name": "stdout"
        }
      ]
    },
    {
      "cell_type": "code",
      "metadata": {
        "id": "hP4PNc-1gj9l",
        "colab_type": "code",
        "colab": {}
      },
      "source": [
        ""
      ],
      "execution_count": 0,
      "outputs": []
    }
  ]
}